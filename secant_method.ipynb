{
 "cells": [
  {
   "cell_type": "code",
   "execution_count": 1,
   "id": "d4a2743a-4ae5-4232-af7b-1bae101af49d",
   "metadata": {},
   "outputs": [],
   "source": [
    "import math\n",
    "import matplotlib.pyplot as plt\n",
    "import numpy as np"
   ]
  },
  {
   "cell_type": "code",
   "execution_count": 2,
   "id": "c5096469-229d-446b-90d2-3be5272caf9d",
   "metadata": {},
   "outputs": [],
   "source": [
    "def secant_method(v_0,v_1,eps, iter_vis): # constructs an approximation of a given function w() using the secant method\n",
    "    v_2 = 0.1\n",
    "    flag = 0\n",
    "    counter = 0\n",
    "    while flag == 0:\n",
    "        a = v_2\n",
    "        v_2 = v_1 - (v_1 - v_0)*w(v_1) / (w(v_1) - w(v_0))\n",
    "        v_0,v_1 = v_1, a\n",
    "        if abs(v_2 - v_1) < eps: flag = 1\n",
    "        counter += 1\n",
    "    if iter_vis == 0:\n",
    "        print('\\tv =', v_2)\n",
    "    return v_2"
   ]
  },
  {
   "cell_type": "code",
   "execution_count": null,
   "id": "a9ffd0b7-78be-46b2-ba2b-5b49fa3434ca",
   "metadata": {},
   "outputs": [],
   "source": []
  }
 ],
 "metadata": {
  "kernelspec": {
   "display_name": "Python 3 (ipykernel)",
   "language": "python",
   "name": "python3"
  },
  "language_info": {
   "codemirror_mode": {
    "name": "ipython",
    "version": 3
   },
   "file_extension": ".py",
   "mimetype": "text/x-python",
   "name": "python",
   "nbconvert_exporter": "python",
   "pygments_lexer": "ipython3",
   "version": "3.12.3"
  }
 },
 "nbformat": 4,
 "nbformat_minor": 5
}
